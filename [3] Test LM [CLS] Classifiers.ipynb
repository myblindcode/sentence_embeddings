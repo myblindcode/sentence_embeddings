{
 "cells": [
  {
   "cell_type": "code",
   "execution_count": 7,
   "id": "00676066-21f5-4398-9065-cc13f013730c",
   "metadata": {
    "tags": []
   },
   "outputs": [],
   "source": [
    "BASE_DATASETS_PATH = '../DATASETS/'"
   ]
  },
  {
   "cell_type": "code",
   "execution_count": 8,
   "id": "b62e7877-c525-4de7-83e7-4e706ee3b93f",
   "metadata": {
    "tags": []
   },
   "outputs": [],
   "source": [
    "datasets = [\n",
    "    {\n",
    "        \"dataset_desc\": \"CSAbstruct\",\n",
    "        \"dataset_path\": f\"{BASE_DATASETS_PATH}CSAbstruct/\",\n",
    "        \"file_prefix\": \"csabstruct\",\n",
    "        \"cls_models\": [(\"gubartz/cls_minilm_abstruct\", \"nreimers/MiniLM-L6-H384-uncased\"),\n",
    "                       (\"gubartz/cls_scibert_abstruct\", \"allenai/scibert_scivocab_uncased\")]\n",
    "    },\n",
    "    {\n",
    "        \"dataset_desc\": \"PubMed-RCT\",\n",
    "        \"dataset_path\": f\"{BASE_DATASETS_PATH}PubMed-RCT/\",\n",
    "        \"file_prefix\": \"pubmed_rct\",\n",
    "        \"cls_models\": [(\"gubartz/cls_minilm_pubmed_rct\", \"nreimers/MiniLM-L6-H384-uncased\"),\n",
    "                       (\"gubartz/cls_scibert_pubmed_rct\", \"allenai/scibert_scivocab_uncased\")]\n",
    "    },\n",
    "    {\n",
    "        \"dataset_desc\": \"PMC-Sents-FULL\",\n",
    "        \"dataset_path\": f\"{BASE_DATASETS_PATH}PMC-Sents-FULL/\",\n",
    "        \"file_prefix\": \"pmc_sents_full\",\n",
    "        \"cls_models\": [(\"gubartz/cls_minilm_pmc_sents_full\", \"nreimers/MiniLM-L6-H384-uncased\"),\n",
    "                       (\"gubartz/cls_scibert_pmc_sents_full\", \"allenai/scibert_scivocab_uncased\")]\n",
    "    }\n",
    "]"
   ]
  },
  {
   "cell_type": "code",
   "execution_count": 9,
   "id": "cd46dfb0",
   "metadata": {},
   "outputs": [],
   "source": [
    "import json\n",
    "import os\n",
    "\n",
    "already_processed = set()\n",
    "\n",
    "if os.path.exists('cls_lm_results.jsonl'):\n",
    "    with open('cls_lm_results.jsonl', 'r', encoding=\"utf-8\") as f:\n",
    "        for l in f:\n",
    "            item = json.loads(l)\n",
    "            already_processed.add((item['dataset'], item['lm_model'], item['cls_model']))"
   ]
  },
  {
   "cell_type": "code",
   "execution_count": 10,
   "id": "87e0c87c",
   "metadata": {},
   "outputs": [
    {
     "data": {
      "text/plain": [
       "{('CSAbstruct', 'gubartz/cls_minilm_abstruct', '-'),\n",
       " ('CSAbstruct', 'gubartz/cls_scibert_abstruct', '-'),\n",
       " ('PMC-Sents-FULL', 'gubartz/cls_minilm_pmc_sents_full', '-'),\n",
       " ('PMC-Sents-FULL', 'gubartz/cls_scibert_pmc_sents_full', '-'),\n",
       " ('PubMed-RCT', 'gubartz/cls_minilm_pubmed_rct', '-'),\n",
       " ('PubMed-RCT', 'gubartz/cls_scibert_pubmed_rct', '-')}"
      ]
     },
     "execution_count": 10,
     "metadata": {},
     "output_type": "execute_result"
    }
   ],
   "source": [
    "already_processed"
   ]
  },
  {
   "cell_type": "code",
   "execution_count": 11,
   "id": "a9f5d0e2-4097-46e1-ad38-a7ec2cb50f82",
   "metadata": {
    "tags": []
   },
   "outputs": [],
   "source": [
    "from torch.utils.data import Dataset\n",
    "\n",
    "class MyDataset(Dataset):\n",
    "    def __init__(self, data):\n",
    "        self.data = data\n",
    "    \n",
    "    def __len__(self):\n",
    "        return len(self.data.index)\n",
    "\n",
    "    def __getitem__(self, i):\n",
    "        item = self.data.iloc[i]\n",
    "        \n",
    "        return item['sentence']"
   ]
  },
  {
   "cell_type": "code",
   "execution_count": 16,
   "id": "b58fa5d4-b416-4690-9004-b9c1eb7070e1",
   "metadata": {
    "tags": []
   },
   "outputs": [
    {
     "data": {
      "application/vnd.jupyter.widget-view+json": {
       "model_id": "6146ef7275004ace95f96e8de4f630ee",
       "version_major": 2,
       "version_minor": 0
      },
      "text/plain": [
       "  0%|          | 0/3 [00:00<?, ?it/s]"
      ]
     },
     "metadata": {},
     "output_type": "display_data"
    },
    {
     "name": "stdout",
     "output_type": "stream",
     "text": [
      "Test Size: 1349\n"
     ]
    },
    {
     "data": {
      "application/vnd.jupyter.widget-view+json": {
       "model_id": "040302f3281e4368b28240915f36bb23",
       "version_major": 2,
       "version_minor": 0
      },
      "text/plain": [
       "  0%|          | 0/2 [00:00<?, ?it/s]"
      ]
     },
     "metadata": {},
     "output_type": "display_data"
    },
    {
     "name": "stdout",
     "output_type": "stream",
     "text": [
      "Test Size: 30122\n"
     ]
    },
    {
     "data": {
      "application/vnd.jupyter.widget-view+json": {
       "model_id": "bde42a50f9c54bf6a18f6269eeb69631",
       "version_major": 2,
       "version_minor": 0
      },
      "text/plain": [
       "  0%|          | 0/2 [00:00<?, ?it/s]"
      ]
     },
     "metadata": {},
     "output_type": "display_data"
    },
    {
     "name": "stdout",
     "output_type": "stream",
     "text": [
      "Test Size: 17310\n"
     ]
    },
    {
     "data": {
      "application/vnd.jupyter.widget-view+json": {
       "model_id": "3ea01bf9691e41f889b847dcf7cb2c0b",
       "version_major": 2,
       "version_minor": 0
      },
      "text/plain": [
       "  0%|          | 0/2 [00:00<?, ?it/s]"
      ]
     },
     "metadata": {},
     "output_type": "display_data"
    }
   ],
   "source": [
    "import pandas as pd\n",
    "from tqdm.auto import tqdm\n",
    "import json\n",
    "from transformers import pipeline\n",
    "from transformers import AutoTokenizer, AutoConfig\n",
    "from sklearn.metrics import classification_report, accuracy_score\n",
    "from sklearn.metrics import f1_score\n",
    "import sys\n",
    "\n",
    "pbar_datasets = tqdm(datasets)\n",
    "batch_size = 256\n",
    "\n",
    "for dataset in pbar_datasets:\n",
    "    pbar_datasets.set_description(dataset['dataset_desc'])\n",
    "   \n",
    "    test_dataset = f\"{dataset['dataset_path']}{dataset['file_prefix']}_test.parquet\"\n",
    "    df_test = pd.read_parquet(test_dataset)\n",
    "    \n",
    "    # sort for less padding\n",
    "    df_test = df_test.sort_values(by=\"sentence\", key=lambda x: x.str.len())\n",
    "    mydataset = MyDataset(df_test)\n",
    "    \n",
    "    print(f\"Test Size: {len(df_test.index)}\")\n",
    "    \n",
    "    pbar_cls_models = tqdm(dataset['cls_models'], leave=False)\n",
    "    \n",
    "    for cls_model in pbar_cls_models:\n",
    "        pbar_cls_models.set_description(cls_model[0])\n",
    "\n",
    "        item = (dataset['dataset_desc'], cls_model[0], '-')\n",
    "        if item in already_processed:\n",
    "            continue               \n",
    "        \n",
    "        tokenizer = AutoTokenizer.from_pretrained(cls_model[1])\n",
    "        classifier = pipeline(model=cls_model[0],\n",
    "                              tokenizer=tokenizer,\n",
    "                              padding=True,\n",
    "                              max_length=512,\n",
    "                              truncation=True)\n",
    "        config = AutoConfig.from_pretrained(cls_model[0])\n",
    "        \n",
    "        # df_test['maped_label'] = df_test['subject_label'].map(config.label2id)\n",
    " \n",
    "        # predictions = classifier(list(df_test['sentence']))\n",
    "        \n",
    "        predictions = []\n",
    "        for pred in tqdm(classifier(mydataset, batch_size=batch_size),\n",
    "                   total=len(mydataset), desc='Classification', leave=False):\n",
    "            predictions.append(pred)\n",
    "            \n",
    "        print(f\"predictions Size: {len(predictions)}\")            \n",
    "\n",
    "        y_pred = []\n",
    "        for pred in predictions:\n",
    "            y_pred.append(config.label2id[pred['label']])\n",
    "        y_test_true = list(df_test['label_id'])\n",
    "        \n",
    "        output_dict = {\n",
    "          'dataset': dataset['dataset_desc'],\n",
    "          'lm_model': cls_model[0],\n",
    "          'cls_model': \"-\",\n",
    "        }        \n",
    "\n",
    "        output_dict['f1_micro'] = f1_score(y_test_true, y_pred, average='micro')\n",
    "\n",
    "        with open('cls_lm_results.jsonl', 'a', encoding=\"utf-8\") as f:\n",
    "            f.write(json.dumps(output_dict))\n",
    "            f.write(\"\\n\")        "
   ]
  },
  {
   "cell_type": "code",
   "execution_count": 17,
   "id": "59198294-3d04-4e8b-a610-0a370d3c6df9",
   "metadata": {
    "tags": []
   },
   "outputs": [],
   "source": [
    "results = []\n",
    "with open('cls_lm_results.jsonl', 'r', encoding=\"utf-8\") as f:\n",
    "    for l in f:\n",
    "        results.append(json.loads(l))"
   ]
  },
  {
   "cell_type": "code",
   "execution_count": 19,
   "id": "1e53b671",
   "metadata": {},
   "outputs": [
    {
     "data": {
      "text/html": [
       "<div>\n",
       "<style scoped>\n",
       "    .dataframe tbody tr th:only-of-type {\n",
       "        vertical-align: middle;\n",
       "    }\n",
       "\n",
       "    .dataframe tbody tr th {\n",
       "        vertical-align: top;\n",
       "    }\n",
       "\n",
       "    .dataframe thead th {\n",
       "        text-align: right;\n",
       "    }\n",
       "</style>\n",
       "<table border=\"1\" class=\"dataframe\">\n",
       "  <thead>\n",
       "    <tr style=\"text-align: right;\">\n",
       "      <th></th>\n",
       "      <th>dataset</th>\n",
       "      <th>lm_model</th>\n",
       "      <th>cls_model</th>\n",
       "      <th>f1_micro</th>\n",
       "    </tr>\n",
       "  </thead>\n",
       "  <tbody>\n",
       "    <tr>\n",
       "      <th>0</th>\n",
       "      <td>CSAbstruct</td>\n",
       "      <td>gubartz/cls_minilm_abstruct</td>\n",
       "      <td>-</td>\n",
       "      <td>68.05</td>\n",
       "    </tr>\n",
       "    <tr>\n",
       "      <th>1</th>\n",
       "      <td>CSAbstruct</td>\n",
       "      <td>gubartz/cls_scibert_abstruct</td>\n",
       "      <td>-</td>\n",
       "      <td>66.42</td>\n",
       "    </tr>\n",
       "    <tr>\n",
       "      <th>4</th>\n",
       "      <td>PMC-Sents-FULL</td>\n",
       "      <td>gubartz/cls_minilm_pmc_sents_full</td>\n",
       "      <td>-</td>\n",
       "      <td>70.02</td>\n",
       "    </tr>\n",
       "    <tr>\n",
       "      <th>5</th>\n",
       "      <td>PMC-Sents-FULL</td>\n",
       "      <td>gubartz/cls_scibert_pmc_sents_full</td>\n",
       "      <td>-</td>\n",
       "      <td>69.97</td>\n",
       "    </tr>\n",
       "    <tr>\n",
       "      <th>2</th>\n",
       "      <td>PubMed-RCT</td>\n",
       "      <td>gubartz/cls_minilm_pubmed_rct</td>\n",
       "      <td>-</td>\n",
       "      <td>82.40</td>\n",
       "    </tr>\n",
       "    <tr>\n",
       "      <th>3</th>\n",
       "      <td>PubMed-RCT</td>\n",
       "      <td>gubartz/cls_scibert_pubmed_rct</td>\n",
       "      <td>-</td>\n",
       "      <td>82.12</td>\n",
       "    </tr>\n",
       "  </tbody>\n",
       "</table>\n",
       "</div>"
      ],
      "text/plain": [
       "          dataset                            lm_model cls_model  f1_micro\n",
       "0      CSAbstruct         gubartz/cls_minilm_abstruct         -     68.05\n",
       "1      CSAbstruct        gubartz/cls_scibert_abstruct         -     66.42\n",
       "4  PMC-Sents-FULL   gubartz/cls_minilm_pmc_sents_full         -     70.02\n",
       "5  PMC-Sents-FULL  gubartz/cls_scibert_pmc_sents_full         -     69.97\n",
       "2      PubMed-RCT       gubartz/cls_minilm_pubmed_rct         -     82.40\n",
       "3      PubMed-RCT      gubartz/cls_scibert_pubmed_rct         -     82.12"
      ]
     },
     "execution_count": 19,
     "metadata": {},
     "output_type": "execute_result"
    }
   ],
   "source": [
    "import pandas as pd\n",
    "\n",
    "df_result = pd.DataFrame(results)[['dataset', 'lm_model', 'cls_model', 'f1_micro']]\n",
    "df_result['f1_micro'] = round(df_result['f1_micro'] * 100, 2)\n",
    "df_result.sort_values(by=[\"dataset\", \"lm_model\", \"cls_model\"])"
   ]
  }
 ],
 "metadata": {
  "kernelspec": {
   "display_name": "Python 3 (ipykernel)",
   "language": "python",
   "name": "python3"
  },
  "language_info": {
   "codemirror_mode": {
    "name": "ipython",
    "version": 3
   },
   "file_extension": ".py",
   "mimetype": "text/x-python",
   "name": "python",
   "nbconvert_exporter": "python",
   "pygments_lexer": "ipython3",
   "version": "3.11.4"
  }
 },
 "nbformat": 4,
 "nbformat_minor": 5
}
